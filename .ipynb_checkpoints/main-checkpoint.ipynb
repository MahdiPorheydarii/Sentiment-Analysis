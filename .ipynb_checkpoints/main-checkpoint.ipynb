{
 "cells": [
  {
   "cell_type": "markdown",
   "id": "ac966a8b",
   "metadata": {},
   "source": [
    "<h2> Libraries Import</h2>"
   ]
  },
  {
   "cell_type": "code",
   "execution_count": 27,
   "id": "12a04eea",
   "metadata": {},
   "outputs": [],
   "source": [
    "import pandas as pd\n",
    "import numpy as np\n",
    "import seaborn as sns\n",
    "import matplotlib.pyplot as plt\n",
    "from nltk.stem.snowball import SnowballStemmer\n",
    "from nltk import word_tokenize\n",
    "from nltk.corpus import stopwords\n",
    "from sklearn.feature_extraction.text import TfidfVectorizer\n",
    "pd.options.mode.chained_assignment = None  # default='warn'\n",
    "from sklearn.model_selection import train_test_split\n",
    "from sklearn.metrics import accuracy_score, classification_report\n",
    "from sklearn.linear_model import LogisticRegression\n",
    "import matplotlib.ticker as ticker\n",
    "from sklearn.linear_model import SGDClassifier\n",
    "import time"
   ]
  },
  {
   "cell_type": "markdown",
   "id": "82fc6cde",
   "metadata": {},
   "source": [
    "<h2> Data Import</h2>"
   ]
  },
  {
   "cell_type": "code",
   "execution_count": 2,
   "id": "027308ff",
   "metadata": {},
   "outputs": [],
   "source": [
    "Data = pd.read_csv('Amazon_DataSet.csv', dtype = {'reviewText' : str})\n",
    "Data['Sentiment'] = Data['Sentiment'].replace(['Positive'], 1)\n",
    "Data['Sentiment'] = Data['Sentiment'].replace(['Negative'], 0)"
   ]
  },
  {
   "cell_type": "markdown",
   "id": "b7db2598",
   "metadata": {},
   "source": [
    "## Raw Data Visualization"
   ]
  },
  {
   "cell_type": "code",
   "execution_count": 3,
   "id": "67d7e525",
   "metadata": {},
   "outputs": [
    {
     "data": {
      "image/png": "[encoded data removed]",
      "text/plain": [
       "<Figure size 1152x504 with 2 Axes>"
      ]
     },
     "metadata": {
      "needs_background": "light"
     },
     "output_type": "display_data"
    }
   ],
   "source": [
    "A = Data['Sentiment'].value_counts()\n",
    "\n",
    "#pie plot\n",
    "plt.figure(figsize=(16,7))\n",
    "plt.subplot(1, 3, 1)\n",
    "A.plot(kind = 'pie')\n",
    "plt.ylabel(\"\")\n",
    "plt.title('Positive(1) and Negative(0) reviews', size=14)\n",
    "\n",
    "#bar plot\n",
    "plt.subplot(1, 3, 3)\n",
    "plt.bar(['0', '1'],[A[0], A[1]], width = 0.3)\n",
    "plt.xlabel('Sentiment', size=14)\n",
    "plt.grid(axis='y')\n",
    "plt.yticks(ticks=ticker.MultipleLocator(1000).tick_values(1000, 15000))\n",
    "plt.ylabel('Count', size=14)\n",
    "plt.show()"
   ]
  },
  {
   "cell_type": "markdown",
   "id": "524001fc",
   "metadata": {},
   "source": [
    "<h2> PreProcessing </h2>"
   ]
  },
  {
   "cell_type": "markdown",
   "id": "6e849517",
   "metadata": {},
   "source": [
    "#### Removing null values"
   ]
  },
  {
   "cell_type": "code",
   "execution_count": 4,
   "id": "775f2673",
   "metadata": {},
   "outputs": [],
   "source": [
    "Data.isnull().sum()\n",
    "Data.dropna(inplace=True)"
   ]
  },
  {
   "cell_type": "markdown",
   "id": "7897fe68",
   "metadata": {},
   "source": [
    "#### setting stemmer and stopwords"
   ]
  },
  {
   "cell_type": "code",
   "execution_count": 5,
   "id": "d290c3ad",
   "metadata": {},
   "outputs": [],
   "source": [
    "stop = stopwords.words('english')\n",
    "stemmer = SnowballStemmer(\"english\")"
   ]
  },
  {
   "cell_type": "code",
   "execution_count": 6,
   "id": "c51cdd74",
   "metadata": {},
   "outputs": [],
   "source": [
    "#removing stopwords\n",
    "Data['reviewText'] = Data['reviewText'].apply(lambda x: ' '.join([word for word in x.split() if word.lower() not in (stop)]))\n",
    "\n",
    "#word tokenize and stemming method application\n",
    "Data['reviewText'] = Data['reviewText'].apply(word_tokenize)\n",
    "Data['reviewText'] = Data['reviewText'].apply(lambda x: ' '.join([stemmer.stem(y) for y in x]))"
   ]
  },
  {
   "cell_type": "code",
   "execution_count": 7,
   "id": "f433bd09",
   "metadata": {},
   "outputs": [],
   "source": [
    "#countvectorize\n",
    "cv = TfidfVectorizer()\n",
    "X = cv.fit_transform(Data['reviewText'] ).toarray()\n",
    "#classification\n",
    "x_train ,x_test,y_train,y_test=train_test_split(X,Data['Sentiment'], test_size=0.2 , random_state=13)"
   ]
  },
  {
   "cell_type": "markdown",
   "id": "c3b19356",
   "metadata": {},
   "source": [
    "<h2> Building and Testing Model </h2>"
   ]
  },
  {
   "cell_type": "markdown",
   "id": "12bf77f9",
   "metadata": {},
   "source": [
    "#### using Logistic Regression"
   ]
  },
  {
   "cell_type": "code",
   "execution_count": 29,
   "id": "f3cc72a7",
   "metadata": {},
   "outputs": [
    {
     "name": "stdout",
     "output_type": "stream",
     "text": [
      "model accuracy is : 89.225%, model time consumption is : 12.45114541053772 second\n"
     ]
    }
   ],
   "source": [
    "model = LogisticRegression()\n",
    "\n",
    "stt = time.time()\n",
    "\n",
    "#Model fitting\n",
    "model.fit(x_train,y_train)\n",
    "\n",
    "#testing the model\n",
    "pred = model.predict(x_test)\n",
    "\n",
    "stp = time.time()\n",
    "#model accuracy\n",
    "print(f'model accuracy is : {accuracy_score(y_test,pred) * 100}%, model time consumption is : {stp - stt} second')"
   ]
  },
  {
   "cell_type": "markdown",
   "id": "0f883bd9",
   "metadata": {},
   "source": [
    "#### using Stochastic Gradient Descent"
   ]
  },
  {
   "cell_type": "code",
   "execution_count": 32,
   "id": "3d165a52",
   "metadata": {},
   "outputs": [
    {
     "name": "stdout",
     "output_type": "stream",
     "text": [
      "model accuracy is : 89.7%, model time consumption is : 6.766649961471558 second\n"
     ]
    }
   ],
   "source": [
    "model1 = SGDClassifier(alpha=10e-5, max_iter=500)\n",
    "\n",
    "stt = time.time()\n",
    "\n",
    "model1.fit(x_train,y_train)\n",
    "\n",
    "pred1 = model1.predict(x_test)\n",
    "\n",
    "stp = time.time()\n",
    "\n",
    "print(f'model accuracy is : {accuracy_score(y_test,pred1) * 100}%, model time consumption is : {stp - stt} second')"
   ]
  },
  {
   "cell_type": "markdown",
   "id": "bbad4fa4",
   "metadata": {},
   "source": [
    "#### Visualizing Classification Report for Logistic Regression"
   ]
  },
  {
   "cell_type": "code",
   "execution_count": 39,
   "id": "96a3e24c",
   "metadata": {
    "scrolled": true
   },
   "outputs": [
    {
     "data": {
      "text/html": [
       "<style type=\"text/css\">\n",
       "#T_080d8_row0_col0, #T_080d8_row0_col1, #T_080d8_row0_col2, #T_080d8_row2_col3 {\n",
       "  background-color: #e5ffe5;\n",
       "  color: #000000;\n",
       "}\n",
       "#T_080d8_row0_col3 {\n",
       "  background-color: #b0e1b0;\n",
       "  color: #000000;\n",
       "}\n",
       "#T_080d8_row1_col0, #T_080d8_row1_col1, #T_080d8_row1_col2, #T_080d8_row3_col3, #T_080d8_row4_col3 {\n",
       "  background-color: #008000;\n",
       "  color: #f1f1f1;\n",
       "}\n",
       "#T_080d8_row1_col3 {\n",
       "  background-color: #369e36;\n",
       "  color: #f1f1f1;\n",
       "}\n",
       "#T_080d8_row2_col0, #T_080d8_row4_col0 {\n",
       "  background-color: #4daa4d;\n",
       "  color: #f1f1f1;\n",
       "}\n",
       "#T_080d8_row2_col1, #T_080d8_row4_col1 {\n",
       "  background-color: #399f39;\n",
       "  color: #f1f1f1;\n",
       "}\n",
       "#T_080d8_row2_col2, #T_080d8_row4_col2 {\n",
       "  background-color: #309a30;\n",
       "  color: #f1f1f1;\n",
       "}\n",
       "#T_080d8_row3_col0 {\n",
       "  background-color: #99d599;\n",
       "  color: #000000;\n",
       "}\n",
       "#T_080d8_row3_col1 {\n",
       "  background-color: #72bf72;\n",
       "  color: #000000;\n",
       "}\n",
       "#T_080d8_row3_col2 {\n",
       "  background-color: #6dbc6d;\n",
       "  color: #f1f1f1;\n",
       "}\n",
       "</style>\n",
       "<table id=\"T_080d8_\">\n",
       "  <thead>\n",
       "    <tr>\n",
       "      <th class=\"blank level0\" >&nbsp;</th>\n",
       "      <th class=\"col_heading level0 col0\" >precision</th>\n",
       "      <th class=\"col_heading level0 col1\" >recall</th>\n",
       "      <th class=\"col_heading level0 col2\" >f1-score</th>\n",
       "      <th class=\"col_heading level0 col3\" >support</th>\n",
       "    </tr>\n",
       "  </thead>\n",
       "  <tbody>\n",
       "    <tr>\n",
       "      <th id=\"T_080d8_level0_row0\" class=\"row_heading level0 row0\" >0</th>\n",
       "      <td id=\"T_080d8_row0_col0\" class=\"data row0 col0\" >0.870000</td>\n",
       "      <td id=\"T_080d8_row0_col1\" class=\"data row0 col1\" >0.650000</td>\n",
       "      <td id=\"T_080d8_row0_col2\" class=\"data row0 col2\" >0.740000</td>\n",
       "      <td id=\"T_080d8_row0_col3\" class=\"data row0 col3\" >952.000000</td>\n",
       "    </tr>\n",
       "    <tr>\n",
       "      <th id=\"T_080d8_level0_row1\" class=\"row_heading level0 row1\" >1</th>\n",
       "      <td id=\"T_080d8_row1_col0\" class=\"data row1 col0\" >0.900000</td>\n",
       "      <td id=\"T_080d8_row1_col1\" class=\"data row1 col1\" >0.970000</td>\n",
       "      <td id=\"T_080d8_row1_col2\" class=\"data row1 col2\" >0.930000</td>\n",
       "      <td id=\"T_080d8_row1_col3\" class=\"data row1 col3\" >3048.000000</td>\n",
       "    </tr>\n",
       "    <tr>\n",
       "      <th id=\"T_080d8_level0_row2\" class=\"row_heading level0 row2\" >accuracy</th>\n",
       "      <td id=\"T_080d8_row2_col0\" class=\"data row2 col0\" >0.890000</td>\n",
       "      <td id=\"T_080d8_row2_col1\" class=\"data row2 col1\" >0.890000</td>\n",
       "      <td id=\"T_080d8_row2_col2\" class=\"data row2 col2\" >0.890000</td>\n",
       "      <td id=\"T_080d8_row2_col3\" class=\"data row2 col3\" >0.890000</td>\n",
       "    </tr>\n",
       "    <tr>\n",
       "      <th id=\"T_080d8_level0_row3\" class=\"row_heading level0 row3\" >macro avg</th>\n",
       "      <td id=\"T_080d8_row3_col0\" class=\"data row3 col0\" >0.880000</td>\n",
       "      <td id=\"T_080d8_row3_col1\" class=\"data row3 col1\" >0.810000</td>\n",
       "      <td id=\"T_080d8_row3_col2\" class=\"data row3 col2\" >0.840000</td>\n",
       "      <td id=\"T_080d8_row3_col3\" class=\"data row3 col3\" >4000.000000</td>\n",
       "    </tr>\n",
       "    <tr>\n",
       "      <th id=\"T_080d8_level0_row4\" class=\"row_heading level0 row4\" >weighted avg</th>\n",
       "      <td id=\"T_080d8_row4_col0\" class=\"data row4 col0\" >0.890000</td>\n",
       "      <td id=\"T_080d8_row4_col1\" class=\"data row4 col1\" >0.890000</td>\n",
       "      <td id=\"T_080d8_row4_col2\" class=\"data row4 col2\" >0.890000</td>\n",
       "      <td id=\"T_080d8_row4_col3\" class=\"data row4 col3\" >4000.000000</td>\n",
       "    </tr>\n",
       "  </tbody>\n",
       "</table>\n"
      ],
      "text/plain": [
       "<pandas.io.formats.style.Styler at 0x7f51b1a85150>"
      ]
     },
     "execution_count": 39,
     "metadata": {},
     "output_type": "execute_result"
    }
   ],
   "source": [
    "report = classification_report(y_test,pred, output_dict=True)\n",
    "df_report = pd.DataFrame(report).transpose().round(2)\n",
    "\n",
    "cm = sns.light_palette(\"green\", as_cmap=True)\n",
    "df_report.style.background_gradient(cmap=cm)"
   ]
  },
  {
   "cell_type": "markdown",
   "id": "db6aeb29",
   "metadata": {},
   "source": [
    "#### Visualizing Classification Report for Stochastic Gradient Descent"
   ]
  },
  {
   "cell_type": "code",
   "execution_count": 38,
   "id": "bd9eb607",
   "metadata": {},
   "outputs": [
    {
     "data": {
      "text/html": [
       "<style type=\"text/css\">\n",
       "#T_024c1_row0_col0, #T_024c1_row0_col1, #T_024c1_row0_col2, #T_024c1_row2_col3, #T_024c1_row3_col0 {\n",
       "  background-color: #e5ffe5;\n",
       "  color: #000000;\n",
       "}\n",
       "#T_024c1_row0_col3 {\n",
       "  background-color: #b0e1b0;\n",
       "  color: #000000;\n",
       "}\n",
       "#T_024c1_row1_col0, #T_024c1_row1_col1, #T_024c1_row1_col2, #T_024c1_row2_col0, #T_024c1_row3_col3, #T_024c1_row4_col0, #T_024c1_row4_col3 {\n",
       "  background-color: #008000;\n",
       "  color: #f1f1f1;\n",
       "}\n",
       "#T_024c1_row1_col3 {\n",
       "  background-color: #369e36;\n",
       "  color: #f1f1f1;\n",
       "}\n",
       "#T_024c1_row2_col1, #T_024c1_row4_col1 {\n",
       "  background-color: #319b31;\n",
       "  color: #f1f1f1;\n",
       "}\n",
       "#T_024c1_row2_col2 {\n",
       "  background-color: #309a30;\n",
       "  color: #f1f1f1;\n",
       "}\n",
       "#T_024c1_row3_col1 {\n",
       "  background-color: #72bf72;\n",
       "  color: #000000;\n",
       "}\n",
       "#T_024c1_row3_col2 {\n",
       "  background-color: #79c379;\n",
       "  color: #000000;\n",
       "}\n",
       "#T_024c1_row4_col2 {\n",
       "  background-color: #3ca13c;\n",
       "  color: #f1f1f1;\n",
       "}\n",
       "</style>\n",
       "<table id=\"T_024c1_\">\n",
       "  <thead>\n",
       "    <tr>\n",
       "      <th class=\"blank level0\" >&nbsp;</th>\n",
       "      <th class=\"col_heading level0 col0\" >precision</th>\n",
       "      <th class=\"col_heading level0 col1\" >recall</th>\n",
       "      <th class=\"col_heading level0 col2\" >f1-score</th>\n",
       "      <th class=\"col_heading level0 col3\" >support</th>\n",
       "    </tr>\n",
       "  </thead>\n",
       "  <tbody>\n",
       "    <tr>\n",
       "      <th id=\"T_024c1_level0_row0\" class=\"row_heading level0 row0\" >0</th>\n",
       "      <td id=\"T_024c1_row0_col0\" class=\"data row0 col0\" >0.890000</td>\n",
       "      <td id=\"T_024c1_row0_col1\" class=\"data row0 col1\" >0.650000</td>\n",
       "      <td id=\"T_024c1_row0_col2\" class=\"data row0 col2\" >0.750000</td>\n",
       "      <td id=\"T_024c1_row0_col3\" class=\"data row0 col3\" >952.000000</td>\n",
       "    </tr>\n",
       "    <tr>\n",
       "      <th id=\"T_024c1_level0_row1\" class=\"row_heading level0 row1\" >1</th>\n",
       "      <td id=\"T_024c1_row1_col0\" class=\"data row1 col0\" >0.900000</td>\n",
       "      <td id=\"T_024c1_row1_col1\" class=\"data row1 col1\" >0.970000</td>\n",
       "      <td id=\"T_024c1_row1_col2\" class=\"data row1 col2\" >0.940000</td>\n",
       "      <td id=\"T_024c1_row1_col3\" class=\"data row1 col3\" >3048.000000</td>\n",
       "    </tr>\n",
       "    <tr>\n",
       "      <th id=\"T_024c1_level0_row2\" class=\"row_heading level0 row2\" >accuracy</th>\n",
       "      <td id=\"T_024c1_row2_col0\" class=\"data row2 col0\" >0.900000</td>\n",
       "      <td id=\"T_024c1_row2_col1\" class=\"data row2 col1\" >0.900000</td>\n",
       "      <td id=\"T_024c1_row2_col2\" class=\"data row2 col2\" >0.900000</td>\n",
       "      <td id=\"T_024c1_row2_col3\" class=\"data row2 col3\" >0.900000</td>\n",
       "    </tr>\n",
       "    <tr>\n",
       "      <th id=\"T_024c1_level0_row3\" class=\"row_heading level0 row3\" >macro avg</th>\n",
       "      <td id=\"T_024c1_row3_col0\" class=\"data row3 col0\" >0.890000</td>\n",
       "      <td id=\"T_024c1_row3_col1\" class=\"data row3 col1\" >0.810000</td>\n",
       "      <td id=\"T_024c1_row3_col2\" class=\"data row3 col2\" >0.840000</td>\n",
       "      <td id=\"T_024c1_row3_col3\" class=\"data row3 col3\" >4000.000000</td>\n",
       "    </tr>\n",
       "    <tr>\n",
       "      <th id=\"T_024c1_level0_row4\" class=\"row_heading level0 row4\" >weighted avg</th>\n",
       "      <td id=\"T_024c1_row4_col0\" class=\"data row4 col0\" >0.900000</td>\n",
       "      <td id=\"T_024c1_row4_col1\" class=\"data row4 col1\" >0.900000</td>\n",
       "      <td id=\"T_024c1_row4_col2\" class=\"data row4 col2\" >0.890000</td>\n",
       "      <td id=\"T_024c1_row4_col3\" class=\"data row4 col3\" >4000.000000</td>\n",
       "    </tr>\n",
       "  </tbody>\n",
       "</table>\n"
      ],
      "text/plain": [
       "<pandas.io.formats.style.Styler at 0x7f51b10f1150>"
      ]
     },
     "execution_count": 38,
     "metadata": {},
     "output_type": "execute_result"
    }
   ],
   "source": [
    "report = classification_report(y_test,pred1, output_dict=True)\n",
    "df_report = pd.DataFrame(report).transpose().round(2)\n",
    "\n",
    "cm = sns.light_palette(\"green\", as_cmap=True)\n",
    "df_report.style.background_gradient(cmap=cm)"
   ]
  },
  {
   "cell_type": "code",
   "execution_count": null,
   "id": "89377a23",
   "metadata": {},
   "outputs": [],
   "source": []
  }
 ],
 "metadata": {
  "kernelspec": {
   "display_name": "Python 3",
   "language": "python",
   "name": "python3"
  },
  "language_info": {
   "codemirror_mode": {
    "name": "ipython",
    "version": 3
   },
   "file_extension": ".py",
   "mimetype": "text/x-python",
   "name": "python",
   "nbconvert_exporter": "python",
   "pygments_lexer": "ipython3",
   "version": "3.7.6"
  }
 },
 "nbformat": 4,
 "nbformat_minor": 5
}
