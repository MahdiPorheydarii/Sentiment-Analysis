{
 "cells": [
  {
   "cell_type": "markdown",
   "id": "d04133d6",
   "metadata": {},
   "source": [
    "<h2> Libraries Import</h2>"
   ]
  },
  {
   "cell_type": "code",
   "execution_count": null,
   "id": "7af4a963",
   "metadata": {},
   "outputs": [],
   "source": [
    "import pandas as pd\n",
    "import numpy as np\n",
    "import matplotlib as mpl\n",
    "import sklearn as sl\n",
    "import nltk\n",
    "from functools import reduce\n",
    "from nltk.stem import PorterStemmer\n",
    "from nltk import word_tokenize\n",
    "from nltk.corpus import stopwords\n",
    "from sklearn.feature_extraction.text import CountVectorizer\n",
    "pd.options.mode.chained_assignment = None  # default='warn'"
   ]
  },
  {
   "cell_type": "markdown",
   "id": "b90e3e60",
   "metadata": {},
   "source": [
    "<h2> Data Import </h2>"
   ]
  },
  {
   "cell_type": "code",
   "execution_count": null,
   "id": "6ef1022a",
   "metadata": {},
   "outputs": [],
   "source": [
    "Data = pd.read_csv('Amazon_DataSet.csv', dtype = {'reviewText' : str})\n",
    "X_train = Data[0:5000]\n",
    "X_test = Data[5000:10000]\n",
    "Y_train = Data[10000:15000]\n",
    "Y_test = Data[15000:20000]"
   ]
  },
  {
   "cell_type": "markdown",
   "id": "c1711ff8",
   "metadata": {},
   "source": [
    "<h2> Data Cleaning </h2>"
   ]
  },
  {
   "cell_type": "code",
   "execution_count": null,
   "id": "d1f6c1e0",
   "metadata": {},
   "outputs": [],
   "source": [
    "Data['Sentiment'] = Data['Sentiment'].replace(['Positive'], 1)\n",
    "Data['Sentiment'] = Data['Sentiment'].replace(['Negative'], 0)\n",
    "sw_nltk = stopwords.words('english')\n",
    "ps = PorterStemmer()\n",
    "vc = CountVectorizer()\n",
    "for i in range(0,5000):\n",
    "    X_train['reviewText'][i] = X_train['reviewText'][i].replace(X_train['reviewText'][i], \" \".join([a for a in word_tokenize(X_train['reviewText'][i]) if a not in sw_nltk]))\n",
    "X_train.head()"
   ]
  },
  {
   "cell_type": "markdown",
   "id": "1d06f7ea",
   "metadata": {},
   "source": [
    "<h2> CountVectorizer </h2>"
   ]
  },
  {
   "cell_type": "code",
   "execution_count": null,
   "id": "b3611bdb",
   "metadata": {},
   "outputs": [],
   "source": []
  },
  {
   "cell_type": "code",
   "execution_count": null,
   "id": "16c9bbd7",
   "metadata": {},
   "outputs": [],
   "source": []
  }
 ],
 "metadata": {
  "kernelspec": {
   "display_name": "Python 3",
   "language": "python",
   "name": "python3"
  },
  "language_info": {
   "codemirror_mode": {
    "name": "ipython",
    "version": 3
   },
   "file_extension": ".py",
   "mimetype": "text/x-python",
   "name": "python",
   "nbconvert_exporter": "python",
   "pygments_lexer": "ipython3",
   "version": "3.7.6"
  }
 },
 "nbformat": 4,
 "nbformat_minor": 5
}
